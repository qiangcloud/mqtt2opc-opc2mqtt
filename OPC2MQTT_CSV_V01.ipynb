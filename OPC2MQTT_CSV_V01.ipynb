{
 "cells": [
  {
   "cell_type": "markdown",
   "metadata": {},
   "source": [
    "# OPC2MQTT  \n",
    "OPC2MQTT是从OPC获取数据以后通过MQTT发送,MQTT2OPC是接收MQTT的数据写入OPC,相应的各自的CSV配置为opc2mqtt.csv和mqtt2opc文件。"
   ]
  },
  {
   "cell_type": "code",
   "execution_count": 1,
   "metadata": {},
   "outputs": [],
   "source": [
    "# app.py\n",
    "\n",
    "import logging\n",
    "\n",
    "logger = logging.getLogger(__name__)\n",
    "logger.setLevel(logging.INFO)\n",
    "\n",
    "# create a file handler\n",
    "handler = logging.FileHandler('opc2mqtt.log',encoding='utf-8')\n",
    "handler.setLevel(logging.INFO)\n",
    "\n",
    "# create a logging format\n",
    "formatter = logging.Formatter('%(asctime)s,%(name)s,%(levelname)s,%(message)s')\n",
    "handler.setFormatter(formatter)\n",
    "\n",
    "# add the handlers to the logger\n",
    "logger.addHandler(handler)"
   ]
  },
  {
   "cell_type": "markdown",
   "metadata": {},
   "source": [
    "### STEP1: 连接OPC服务器"
   ]
  },
  {
   "cell_type": "code",
   "execution_count": 2,
   "metadata": {},
   "outputs": [],
   "source": [
    "\"\"\" Step 1 \"\"\"\n",
    "from opcua import Client as OPCUAClient"
   ]
  },
  {
   "cell_type": "code",
   "execution_count": 3,
   "metadata": {},
   "outputs": [],
   "source": [
    "from opcua import ua"
   ]
  },
  {
   "cell_type": "code",
   "execution_count": 4,
   "metadata": {},
   "outputs": [],
   "source": [
    "uri = \"opc.tcp://192.168.10.1:4840\""
   ]
  },
  {
   "cell_type": "code",
   "execution_count": 5,
   "metadata": {},
   "outputs": [],
   "source": [
    "\"\"\" Step 2 \"\"\"\n",
    "client = OPCUAClient(uri)"
   ]
  },
  {
   "cell_type": "code",
   "execution_count": 6,
   "metadata": {},
   "outputs": [
    {
     "name": "stderr",
     "output_type": "stream",
     "text": [
      "Requested session timeout to be 3600000ms, got 30000ms instead\n"
     ]
    }
   ],
   "source": [
    "try:\n",
    "    client.connect() # connect to the data source\n",
    "except Exception as e:\n",
    "    logging.exception(e)"
   ]
  },
  {
   "cell_type": "markdown",
   "metadata": {},
   "source": [
    "### STEP2:连接MQTT服务器"
   ]
  },
  {
   "cell_type": "code",
   "execution_count": 7,
   "metadata": {},
   "outputs": [
    {
     "data": {
      "text/plain": [
       "0"
      ]
     },
     "execution_count": 7,
     "metadata": {},
     "output_type": "execute_result"
    }
   ],
   "source": [
    "import paho.mqtt.client as mqtt #import the client1\n",
    "broker_address=\"broker.emqx.io\"\n",
    "#broker_address=\"iot.eclipse.org\" #use external broker\n",
    "mqttc = mqtt.Client() #create new instance\n",
    "mqttc.connect(broker_address) #connect to broker"
   ]
  },
  {
   "cell_type": "markdown",
   "metadata": {},
   "source": [
    "### STEP3: 加载CSV配置文件"
   ]
  },
  {
   "cell_type": "markdown",
   "metadata": {},
   "source": [
    "https://thispointer.com/python-read-csv-into-a-list-of-lists-or-tuples-or-dictionaries-import-csv-to-list/"
   ]
  },
  {
   "cell_type": "code",
   "execution_count": 8,
   "metadata": {},
   "outputs": [],
   "source": [
    "import csv"
   ]
  },
  {
   "cell_type": "code",
   "execution_count": 9,
   "metadata": {},
   "outputs": [
    {
     "name": "stdout",
     "output_type": "stream",
     "text": [
      "[['srm/opc2mqtt/INT_NUM', 'ns=3;s=\"OPC2MQTT\".\"INT_NUM\"']]\n"
     ]
    }
   ],
   "source": [
    "with open('opc2mqtt.csv', newline='') as f:\n",
    "    reader = csv.reader(f)\n",
    "    header = next(reader)\n",
    "    list_reader = list(reader)\n",
    "    print(list_reader)"
   ]
  },
  {
   "cell_type": "code",
   "execution_count": 10,
   "metadata": {},
   "outputs": [],
   "source": [
    "list_topic = [i[0] for i in list_reader]"
   ]
  },
  {
   "cell_type": "code",
   "execution_count": 11,
   "metadata": {},
   "outputs": [
    {
     "data": {
      "text/plain": [
       "['srm/opc2mqtt/INT_NUM']"
      ]
     },
     "execution_count": 11,
     "metadata": {},
     "output_type": "execute_result"
    }
   ],
   "source": [
    "list_topic"
   ]
  },
  {
   "cell_type": "code",
   "execution_count": 12,
   "metadata": {},
   "outputs": [],
   "source": [
    "list_nodeid = [i[1] for i in list_reader]"
   ]
  },
  {
   "cell_type": "code",
   "execution_count": 13,
   "metadata": {},
   "outputs": [
    {
     "data": {
      "text/plain": [
       "['ns=3;s=\"OPC2MQTT\".\"INT_NUM\"']"
      ]
     },
     "execution_count": 13,
     "metadata": {},
     "output_type": "execute_result"
    }
   ],
   "source": [
    "list_nodeid"
   ]
  },
  {
   "cell_type": "markdown",
   "metadata": {},
   "source": [
    "### STEP4: 读取OPC中的数据通过MQTT发送"
   ]
  },
  {
   "cell_type": "code",
   "execution_count": 14,
   "metadata": {},
   "outputs": [],
   "source": [
    "import json"
   ]
  },
  {
   "cell_type": "code",
   "execution_count": 15,
   "metadata": {},
   "outputs": [],
   "source": [
    "def read_opc(list_topic, list_nodeid):\n",
    "    for i in range(len(list_topic)):\n",
    "        value = client.get_node(list_nodeid[i]).get_value()\n",
    "        display = client.get_node(list_nodeid[i]).get_display_name().Text\n",
    "        mqttc.publish(list_topic[i],json.dumps(value))\n",
    "        \n",
    "        logger.info(f'{display},{json.dumps(value)}')"
   ]
  },
  {
   "cell_type": "code",
   "execution_count": null,
   "metadata": {
    "scrolled": false
   },
   "outputs": [],
   "source": [
    "import time\n",
    "\n",
    "mqttc.loop_start()\n",
    "    \n",
    "while True:\n",
    "    time.sleep(3)  \n",
    "    read_opc(list_topic, list_nodeid)"
   ]
  },
  {
   "cell_type": "code",
   "execution_count": null,
   "metadata": {},
   "outputs": [],
   "source": []
  }
 ],
 "metadata": {
  "kernelspec": {
   "display_name": "Python 3",
   "language": "python",
   "name": "python3"
  },
  "language_info": {
   "codemirror_mode": {
    "name": "ipython",
    "version": 3
   },
   "file_extension": ".py",
   "mimetype": "text/x-python",
   "name": "python",
   "nbconvert_exporter": "python",
   "pygments_lexer": "ipython3",
   "version": "3.8.3"
  }
 },
 "nbformat": 4,
 "nbformat_minor": 4
}
